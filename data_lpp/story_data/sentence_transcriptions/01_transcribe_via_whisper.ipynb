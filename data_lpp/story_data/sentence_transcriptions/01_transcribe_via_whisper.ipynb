{
  "cells": [
    {
      "cell_type": "code",
      "execution_count": 1,
      "metadata": {
        "colab": {
          "base_uri": "https://localhost:8080/"
        },
        "id": "hrVsZFp89wJR",
        "outputId": "7a2d3f3f-8bf0-4807-cd5c-eb6940ac89ff"
      },
      "outputs": [
        {
          "output_type": "stream",
          "name": "stdout",
          "text": [
            "Collecting git+https://github.com/openai/whisper.git\n",
            "  Cloning https://github.com/openai/whisper.git to /tmp/pip-req-build-5lzli763\n",
            "  Running command git clone --filter=blob:none --quiet https://github.com/openai/whisper.git /tmp/pip-req-build-5lzli763\n",
            "  Resolved https://github.com/openai/whisper.git to commit ba3f3cd54b0e5b8ce1ab3de13e32122d0d5f98ab\n",
            "  Installing build dependencies ... \u001b[?25l\u001b[?25hdone\n",
            "  Getting requirements to build wheel ... \u001b[?25l\u001b[?25hdone\n",
            "  Preparing metadata (pyproject.toml) ... \u001b[?25l\u001b[?25hdone\n",
            "Requirement already satisfied: numba in /usr/local/lib/python3.10/dist-packages (from openai-whisper==20231117) (0.58.1)\n",
            "Requirement already satisfied: numpy in /usr/local/lib/python3.10/dist-packages (from openai-whisper==20231117) (1.25.2)\n",
            "Requirement already satisfied: torch in /usr/local/lib/python3.10/dist-packages (from openai-whisper==20231117) (2.1.0+cu121)\n",
            "Requirement already satisfied: tqdm in /usr/local/lib/python3.10/dist-packages (from openai-whisper==20231117) (4.66.1)\n",
            "Requirement already satisfied: more-itertools in /usr/local/lib/python3.10/dist-packages (from openai-whisper==20231117) (10.1.0)\n",
            "Collecting tiktoken (from openai-whisper==20231117)\n",
            "  Downloading tiktoken-0.6.0-cp310-cp310-manylinux_2_17_x86_64.manylinux2014_x86_64.whl (1.8 MB)\n",
            "\u001b[2K     \u001b[90m━━━━━━━━━━━━━━━━━━━━━━━━━━━━━━━━━━━━━━━━\u001b[0m \u001b[32m1.8/1.8 MB\u001b[0m \u001b[31m2.3 MB/s\u001b[0m eta \u001b[36m0:00:00\u001b[0m\n",
            "\u001b[?25hRequirement already satisfied: triton<3,>=2.0.0 in /usr/local/lib/python3.10/dist-packages (from openai-whisper==20231117) (2.1.0)\n",
            "Requirement already satisfied: filelock in /usr/local/lib/python3.10/dist-packages (from triton<3,>=2.0.0->openai-whisper==20231117) (3.13.1)\n",
            "Requirement already satisfied: llvmlite<0.42,>=0.41.0dev0 in /usr/local/lib/python3.10/dist-packages (from numba->openai-whisper==20231117) (0.41.1)\n",
            "Requirement already satisfied: regex>=2022.1.18 in /usr/local/lib/python3.10/dist-packages (from tiktoken->openai-whisper==20231117) (2023.12.25)\n",
            "Requirement already satisfied: requests>=2.26.0 in /usr/local/lib/python3.10/dist-packages (from tiktoken->openai-whisper==20231117) (2.31.0)\n",
            "Requirement already satisfied: typing-extensions in /usr/local/lib/python3.10/dist-packages (from torch->openai-whisper==20231117) (4.9.0)\n",
            "Requirement already satisfied: sympy in /usr/local/lib/python3.10/dist-packages (from torch->openai-whisper==20231117) (1.12)\n",
            "Requirement already satisfied: networkx in /usr/local/lib/python3.10/dist-packages (from torch->openai-whisper==20231117) (3.2.1)\n",
            "Requirement already satisfied: jinja2 in /usr/local/lib/python3.10/dist-packages (from torch->openai-whisper==20231117) (3.1.3)\n",
            "Requirement already satisfied: fsspec in /usr/local/lib/python3.10/dist-packages (from torch->openai-whisper==20231117) (2023.6.0)\n",
            "Requirement already satisfied: charset-normalizer<4,>=2 in /usr/local/lib/python3.10/dist-packages (from requests>=2.26.0->tiktoken->openai-whisper==20231117) (3.3.2)\n",
            "Requirement already satisfied: idna<4,>=2.5 in /usr/local/lib/python3.10/dist-packages (from requests>=2.26.0->tiktoken->openai-whisper==20231117) (3.6)\n",
            "Requirement already satisfied: urllib3<3,>=1.21.1 in /usr/local/lib/python3.10/dist-packages (from requests>=2.26.0->tiktoken->openai-whisper==20231117) (2.0.7)\n",
            "Requirement already satisfied: certifi>=2017.4.17 in /usr/local/lib/python3.10/dist-packages (from requests>=2.26.0->tiktoken->openai-whisper==20231117) (2024.2.2)\n",
            "Requirement already satisfied: MarkupSafe>=2.0 in /usr/local/lib/python3.10/dist-packages (from jinja2->torch->openai-whisper==20231117) (2.1.5)\n",
            "Requirement already satisfied: mpmath>=0.19 in /usr/local/lib/python3.10/dist-packages (from sympy->torch->openai-whisper==20231117) (1.3.0)\n",
            "Building wheels for collected packages: openai-whisper\n",
            "  Building wheel for openai-whisper (pyproject.toml) ... \u001b[?25l\u001b[?25hdone\n",
            "  Created wheel for openai-whisper: filename=openai_whisper-20231117-py3-none-any.whl size=802825 sha256=c4cbeaa32901ea10ef95796d0274638f5da80c79535205bc0a210c77f2519776\n",
            "  Stored in directory: /tmp/pip-ephem-wheel-cache-hid3n_wv/wheels/8b/6c/d0/622666868c179f156cf595c8b6f06f88bc5d80c4b31dccaa03\n",
            "Successfully built openai-whisper\n",
            "Installing collected packages: tiktoken, openai-whisper\n",
            "\u001b[31mERROR: pip's dependency resolver does not currently take into account all the packages that are installed. This behaviour is the source of the following dependency conflicts.\n",
            "llmx 0.0.15a0 requires cohere, which is not installed.\n",
            "llmx 0.0.15a0 requires openai, which is not installed.\u001b[0m\u001b[31m\n",
            "\u001b[0mSuccessfully installed openai-whisper-20231117 tiktoken-0.6.0\n"
          ]
        }
      ],
      "source": [
        "! pip install git+https://github.com/openai/whisper.git\n"
      ]
    },
    {
      "cell_type": "code",
      "source": [
        "from google.colab import drive\n",
        "drive.mount('/content/drive/')"
      ],
      "metadata": {
        "colab": {
          "base_uri": "https://localhost:8080/"
        },
        "id": "d-NbKE7YShSN",
        "outputId": "9aad16fb-d66e-4bc7-b934-071285090d41"
      },
      "execution_count": 2,
      "outputs": [
        {
          "output_type": "stream",
          "name": "stdout",
          "text": [
            "Mounted at /content/drive/\n"
          ]
        }
      ]
    },
    {
      "cell_type": "code",
      "execution_count": 3,
      "metadata": {
        "colab": {
          "base_uri": "https://localhost:8080/"
        },
        "id": "ZmQ5RT5n-gaV",
        "outputId": "711cf49f-6012-40ad-ea41-cb17b363d450"
      },
      "outputs": [
        {
          "output_type": "stream",
          "name": "stderr",
          "text": [
            "100%|███████████████████████████████████████| 139M/139M [00:01<00:00, 92.1MiB/s]\n"
          ]
        }
      ],
      "source": [
        "import whisper\n",
        "from whisper.utils import get_writer\n",
        "\n",
        "model = whisper.load_model(\"base\")"
      ]
    },
    {
      "cell_type": "code",
      "execution_count": 11,
      "metadata": {
        "id": "PlSuO6-m9pIH",
        "colab": {
          "base_uri": "https://localhost:8080/"
        },
        "outputId": "2a4cdb10-be74-4ee4-ce27-cec8abbbc521"
      },
      "outputs": [
        {
          "output_type": "execute_result",
          "data": {
            "text/plain": [
              "['stimuli_task-lppCN_section-1.wav']"
            ]
          },
          "metadata": {},
          "execution_count": 11
        }
      ],
      "source": [
        "import os\n",
        "main_path = '/content/drive/MyDrive/Colab Notebooks/rec/'\n",
        "wav_files = [ fname for fname in os.listdir(main_path) if fname.endswith('CN_section-1.wav')]\n",
        "wav_files.sort()\n",
        "wav_files"
      ]
    },
    {
      "cell_type": "code",
      "source": [
        "\n",
        "for curr_file in wav_files[:]:\n",
        "    print(main_path + curr_file)\n",
        "    input_file = main_path + curr_file\n",
        "\n",
        "    audio = input_file\n",
        "    result = model.transcribe(audio)\n",
        "\n",
        "    # Save as a TXT file with hard line breaks\n",
        "    txt_writer = get_writer(\"txt\", main_path)\n",
        "    txt_writer(result, input_file)"
      ],
      "metadata": {
        "colab": {
          "base_uri": "https://localhost:8080/"
        },
        "id": "qmpK1wpBSy--",
        "outputId": "65e3b696-82b3-450e-94f5-965df791328c"
      },
      "execution_count": 12,
      "outputs": [
        {
          "output_type": "stream",
          "name": "stdout",
          "text": [
            "/content/drive/MyDrive/Colab Notebooks/rec/stimuli_task-lppCN_section-1.wav\n"
          ]
        },
        {
          "output_type": "stream",
          "name": "stderr",
          "text": [
            "/usr/local/lib/python3.10/dist-packages/whisper/transcribe.py:126: UserWarning: FP16 is not supported on CPU; using FP32 instead\n",
            "  warnings.warn(\"FP16 is not supported on CPU; using FP32 instead\")\n"
          ]
        }
      ]
    },
    {
      "cell_type": "code",
      "source": [
        "!pip install opensmile"
      ],
      "metadata": {
        "id": "irhW8gK8Vem4",
        "colab": {
          "base_uri": "https://localhost:8080/"
        },
        "outputId": "fe6f820d-1cc3-457d-c2d7-57b105aeeb25"
      },
      "execution_count": null,
      "outputs": [
        {
          "output_type": "stream",
          "name": "stdout",
          "text": [
            "Collecting opensmile\n",
            "  Downloading opensmile-2.5.0-py3-none-manylinux_2_17_x86_64.whl (996 kB)\n",
            "\u001b[2K     \u001b[90m━━━━━━━━━━━━━━━━━━━━━━━━━━━━━━━━━━━━━━━━\u001b[0m \u001b[32m996.2/996.2 kB\u001b[0m \u001b[31m14.0 MB/s\u001b[0m eta \u001b[36m0:00:00\u001b[0m\n",
            "\u001b[?25hCollecting audobject>=0.6.1 (from opensmile)\n",
            "  Downloading audobject-0.7.11-py3-none-any.whl (43 kB)\n",
            "\u001b[2K     \u001b[90m━━━━━━━━━━━━━━━━━━━━━━━━━━━━━━━━━━━━━━━━\u001b[0m \u001b[32m44.0/44.0 kB\u001b[0m \u001b[31m7.1 MB/s\u001b[0m eta \u001b[36m0:00:00\u001b[0m\n",
            "\u001b[?25hCollecting audinterface>=0.7.0 (from opensmile)\n",
            "  Downloading audinterface-1.1.0-py3-none-any.whl (66 kB)\n",
            "\u001b[2K     \u001b[90m━━━━━━━━━━━━━━━━━━━━━━━━━━━━━━━━━━━━━━━━\u001b[0m \u001b[32m66.3/66.3 kB\u001b[0m \u001b[31m9.7 MB/s\u001b[0m eta \u001b[36m0:00:00\u001b[0m\n",
            "\u001b[?25hCollecting audformat<2.0.0,>=1.0.1 (from audinterface>=0.7.0->opensmile)\n",
            "  Downloading audformat-1.1.2-py3-none-any.whl (140 kB)\n",
            "\u001b[2K     \u001b[90m━━━━━━━━━━━━━━━━━━━━━━━━━━━━━━━━━━━━━━━━\u001b[0m \u001b[32m140.9/140.9 kB\u001b[0m \u001b[31m20.5 MB/s\u001b[0m eta \u001b[36m0:00:00\u001b[0m\n",
            "\u001b[?25hCollecting audiofile>=1.3.0 (from audinterface>=0.7.0->opensmile)\n",
            "  Downloading audiofile-1.4.0-py3-none-any.whl (1.1 MB)\n",
            "\u001b[2K     \u001b[90m━━━━━━━━━━━━━━━━━━━━━━━━━━━━━━━━━━━━━━━━\u001b[0m \u001b[32m1.1/1.1 MB\u001b[0m \u001b[31m19.7 MB/s\u001b[0m eta \u001b[36m0:00:00\u001b[0m\n",
            "\u001b[?25hCollecting audmath>=1.3.0 (from audinterface>=0.7.0->opensmile)\n",
            "  Downloading audmath-1.4.0-py3-none-any.whl (23 kB)\n",
            "Collecting audresample<2.0.0,>=1.1.0 (from audinterface>=0.7.0->opensmile)\n",
            "  Downloading audresample-1.3.3-py3-none-manylinux_2_17_x86_64.whl (138 kB)\n",
            "\u001b[2K     \u001b[90m━━━━━━━━━━━━━━━━━━━━━━━━━━━━━━━━━━━━━━━━\u001b[0m \u001b[32m138.4/138.4 kB\u001b[0m \u001b[31m20.9 MB/s\u001b[0m eta \u001b[36m0:00:00\u001b[0m\n",
            "\u001b[?25hCollecting audeer>=1.18.0 (from audobject>=0.6.1->opensmile)\n",
            "  Downloading audeer-2.0.0-py3-none-any.whl (39 kB)\n",
            "Requirement already satisfied: importlib-metadata>=4.8.0 in /usr/local/lib/python3.10/dist-packages (from audobject>=0.6.1->opensmile) (7.0.1)\n",
            "Collecting oyaml (from audobject>=0.6.1->opensmile)\n",
            "  Downloading oyaml-1.0-py2.py3-none-any.whl (3.0 kB)\n",
            "Requirement already satisfied: packaging in /usr/local/lib/python3.10/dist-packages (from audobject>=0.6.1->opensmile) (23.2)\n",
            "Requirement already satisfied: tqdm in /usr/local/lib/python3.10/dist-packages (from audeer>=1.18.0->audobject>=0.6.1->opensmile) (4.66.1)\n",
            "Collecting iso-639 (from audformat<2.0.0,>=1.0.1->audinterface>=0.7.0->opensmile)\n",
            "  Downloading iso-639-0.4.5.tar.gz (167 kB)\n",
            "\u001b[2K     \u001b[90m━━━━━━━━━━━━━━━━━━━━━━━━━━━━━━━━━━━━━━━━\u001b[0m \u001b[32m167.4/167.4 kB\u001b[0m \u001b[31m25.0 MB/s\u001b[0m eta \u001b[36m0:00:00\u001b[0m\n",
            "\u001b[?25h  Preparing metadata (setup.py) ... \u001b[?25l\u001b[?25hdone\n",
            "Collecting iso3166 (from audformat<2.0.0,>=1.0.1->audinterface>=0.7.0->opensmile)\n",
            "  Downloading iso3166-2.1.1-py3-none-any.whl (9.8 kB)\n",
            "Requirement already satisfied: pyyaml>=5.4.1 in /usr/local/lib/python3.10/dist-packages (from audformat<2.0.0,>=1.0.1->audinterface>=0.7.0->opensmile) (6.0.1)\n",
            "Requirement already satisfied: pandas>=1.4.1 in /usr/local/lib/python3.10/dist-packages (from audformat<2.0.0,>=1.0.1->audinterface>=0.7.0->opensmile) (1.5.3)\n",
            "Requirement already satisfied: numpy in /usr/local/lib/python3.10/dist-packages (from audiofile>=1.3.0->audinterface>=0.7.0->opensmile) (1.23.5)\n",
            "Requirement already satisfied: soundfile>=0.12.1 in /usr/local/lib/python3.10/dist-packages (from audiofile>=1.3.0->audinterface>=0.7.0->opensmile) (0.12.1)\n",
            "Requirement already satisfied: zipp>=0.5 in /usr/local/lib/python3.10/dist-packages (from importlib-metadata>=4.8.0->audobject>=0.6.1->opensmile) (3.17.0)\n",
            "Requirement already satisfied: python-dateutil>=2.8.1 in /usr/local/lib/python3.10/dist-packages (from pandas>=1.4.1->audformat<2.0.0,>=1.0.1->audinterface>=0.7.0->opensmile) (2.8.2)\n",
            "Requirement already satisfied: pytz>=2020.1 in /usr/local/lib/python3.10/dist-packages (from pandas>=1.4.1->audformat<2.0.0,>=1.0.1->audinterface>=0.7.0->opensmile) (2023.4)\n",
            "Requirement already satisfied: cffi>=1.0 in /usr/local/lib/python3.10/dist-packages (from soundfile>=0.12.1->audiofile>=1.3.0->audinterface>=0.7.0->opensmile) (1.16.0)\n",
            "Requirement already satisfied: pycparser in /usr/local/lib/python3.10/dist-packages (from cffi>=1.0->soundfile>=0.12.1->audiofile>=1.3.0->audinterface>=0.7.0->opensmile) (2.21)\n",
            "Requirement already satisfied: six>=1.5 in /usr/local/lib/python3.10/dist-packages (from python-dateutil>=2.8.1->pandas>=1.4.1->audformat<2.0.0,>=1.0.1->audinterface>=0.7.0->opensmile) (1.16.0)\n",
            "Building wheels for collected packages: iso-639\n",
            "  Building wheel for iso-639 (setup.py) ... \u001b[?25l\u001b[?25hdone\n",
            "  Created wheel for iso-639: filename=iso_639-0.4.5-py3-none-any.whl size=168840 sha256=dd7a3efffd88e5e476d2fcbf9f9427621010d9d1cf102b313190c1e93cd6665c\n",
            "  Stored in directory: /root/.cache/pip/wheels/d8/78/cc/5478ca3b1c3f602eae6f8cdbd78f909c0a0bfa0bbcb5c7771f\n",
            "Successfully built iso-639\n",
            "Installing collected packages: iso-639, oyaml, iso3166, audresample, audmath, audeer, audobject, audiofile, audformat, audinterface, opensmile\n",
            "Successfully installed audeer-2.0.0 audformat-1.1.2 audinterface-1.1.0 audiofile-1.4.0 audmath-1.4.0 audobject-0.7.11 audresample-1.3.3 iso-639-0.4.5 iso3166-2.1.1 opensmile-2.5.0 oyaml-1.0\n"
          ]
        }
      ]
    },
    {
      "cell_type": "code",
      "source": [
        "import opensmile\n",
        "\n",
        "smile = opensmile.Smile(\n",
        "    feature_set=opensmile.FeatureSet.ComParE_2016,\n",
        "    feature_level=opensmile.FeatureLevel.Functionals,\n",
        ")\n",
        "y = smile.process_file(input_file)"
      ],
      "metadata": {
        "id": "gA98ZxWCWt74"
      },
      "execution_count": null,
      "outputs": []
    },
    {
      "cell_type": "code",
      "source": [
        "\n",
        "y"
      ],
      "metadata": {
        "id": "nwx6MgNQXZf2",
        "outputId": "16631e96-b21c-4243-de92-acd0eed00f60",
        "colab": {
          "base_uri": "https://localhost:8080/",
          "height": 196
        }
      },
      "execution_count": null,
      "outputs": [
        {
          "output_type": "execute_result",
          "data": {
            "text/plain": [
              "                                                                                  audspec_lengthL1norm_sma_range  \\\n",
              "file                                               start  end                                                      \n",
              "/content/drive/MyDrive/Colab Notebooks/rec/SUB0... 0 days 0 days 00:10:39.800000                        8.390948   \n",
              "\n",
              "                                                                                  audspec_lengthL1norm_sma_maxPos  \\\n",
              "file                                               start  end                                                       \n",
              "/content/drive/MyDrive/Colab Notebooks/rec/SUB0... 0 days 0 days 00:10:39.800000                         0.272427   \n",
              "\n",
              "                                                                                  audspec_lengthL1norm_sma_minPos  \\\n",
              "file                                               start  end                                                       \n",
              "/content/drive/MyDrive/Colab Notebooks/rec/SUB0... 0 days 0 days 00:10:39.800000                         0.981477   \n",
              "\n",
              "                                                                                  audspec_lengthL1norm_sma_quartile1  \\\n",
              "file                                               start  end                                                          \n",
              "/content/drive/MyDrive/Colab Notebooks/rec/SUB0... 0 days 0 days 00:10:39.800000                            0.185696   \n",
              "\n",
              "                                                                                  audspec_lengthL1norm_sma_quartile2  \\\n",
              "file                                               start  end                                                          \n",
              "/content/drive/MyDrive/Colab Notebooks/rec/SUB0... 0 days 0 days 00:10:39.800000                            0.720651   \n",
              "\n",
              "                                                                                  audspec_lengthL1norm_sma_quartile3  \\\n",
              "file                                               start  end                                                          \n",
              "/content/drive/MyDrive/Colab Notebooks/rec/SUB0... 0 days 0 days 00:10:39.800000                             1.61457   \n",
              "\n",
              "                                                                                  audspec_lengthL1norm_sma_iqr1-2  \\\n",
              "file                                               start  end                                                       \n",
              "/content/drive/MyDrive/Colab Notebooks/rec/SUB0... 0 days 0 days 00:10:39.800000                         0.534954   \n",
              "\n",
              "                                                                                  audspec_lengthL1norm_sma_iqr2-3  \\\n",
              "file                                               start  end                                                       \n",
              "/content/drive/MyDrive/Colab Notebooks/rec/SUB0... 0 days 0 days 00:10:39.800000                         0.893919   \n",
              "\n",
              "                                                                                  audspec_lengthL1norm_sma_iqr1-3  \\\n",
              "file                                               start  end                                                       \n",
              "/content/drive/MyDrive/Colab Notebooks/rec/SUB0... 0 days 0 days 00:10:39.800000                         1.428874   \n",
              "\n",
              "                                                                                  audspec_lengthL1norm_sma_percentile1.0  \\\n",
              "file                                               start  end                                                              \n",
              "/content/drive/MyDrive/Colab Notebooks/rec/SUB0... 0 days 0 days 00:10:39.800000                                0.087261   \n",
              "\n",
              "                                                                                  ...  \\\n",
              "file                                               start  end                     ...   \n",
              "/content/drive/MyDrive/Colab Notebooks/rec/SUB0... 0 days 0 days 00:10:39.800000  ...   \n",
              "\n",
              "                                                                                  mfcc_sma_de[14]_peakRangeAbs  \\\n",
              "file                                               start  end                                                    \n",
              "/content/drive/MyDrive/Colab Notebooks/rec/SUB0... 0 days 0 days 00:10:39.800000                     10.557087   \n",
              "\n",
              "                                                                                  mfcc_sma_de[14]_peakRangeRel  \\\n",
              "file                                               start  end                                                    \n",
              "/content/drive/MyDrive/Colab Notebooks/rec/SUB0... 0 days 0 days 00:10:39.800000                      0.544917   \n",
              "\n",
              "                                                                                  mfcc_sma_de[14]_peakMeanAbs  \\\n",
              "file                                               start  end                                                   \n",
              "/content/drive/MyDrive/Colab Notebooks/rec/SUB0... 0 days 0 days 00:10:39.800000                     2.432626   \n",
              "\n",
              "                                                                                  mfcc_sma_de[14]_peakMeanMeanDist  \\\n",
              "file                                               start  end                                                        \n",
              "/content/drive/MyDrive/Colab Notebooks/rec/SUB0... 0 days 0 days 00:10:39.800000                          2.432736   \n",
              "\n",
              "                                                                                  mfcc_sma_de[14]_peakMeanRel  \\\n",
              "file                                               start  end                                                   \n",
              "/content/drive/MyDrive/Colab Notebooks/rec/SUB0... 0 days 0 days 00:10:39.800000                        -20.0   \n",
              "\n",
              "                                                                                  mfcc_sma_de[14]_minRangeRel  \\\n",
              "file                                               start  end                                                   \n",
              "/content/drive/MyDrive/Colab Notebooks/rec/SUB0... 0 days 0 days 00:10:39.800000                     0.620287   \n",
              "\n",
              "                                                                                  mfcc_sma_de[14]_meanRisingSlope  \\\n",
              "file                                               start  end                                                       \n",
              "/content/drive/MyDrive/Colab Notebooks/rec/SUB0... 0 days 0 days 00:10:39.800000                       106.017311   \n",
              "\n",
              "                                                                                  mfcc_sma_de[14]_stddevRisingSlope  \\\n",
              "file                                               start  end                                                         \n",
              "/content/drive/MyDrive/Colab Notebooks/rec/SUB0... 0 days 0 days 00:10:39.800000                          54.893475   \n",
              "\n",
              "                                                                                  mfcc_sma_de[14]_meanFallingSlope  \\\n",
              "file                                               start  end                                                        \n",
              "/content/drive/MyDrive/Colab Notebooks/rec/SUB0... 0 days 0 days 00:10:39.800000                        103.486671   \n",
              "\n",
              "                                                                                  mfcc_sma_de[14]_stddevFallingSlope  \n",
              "file                                               start  end                                                         \n",
              "/content/drive/MyDrive/Colab Notebooks/rec/SUB0... 0 days 0 days 00:10:39.800000                            54.03693  \n",
              "\n",
              "[1 rows x 6373 columns]"
            ],
            "text/html": [
              "\n",
              "  <div id=\"df-21f8cb00-ae25-4509-afd8-c4f78ec2aef1\" class=\"colab-df-container\">\n",
              "    <div>\n",
              "<style scoped>\n",
              "    .dataframe tbody tr th:only-of-type {\n",
              "        vertical-align: middle;\n",
              "    }\n",
              "\n",
              "    .dataframe tbody tr th {\n",
              "        vertical-align: top;\n",
              "    }\n",
              "\n",
              "    .dataframe thead th {\n",
              "        text-align: right;\n",
              "    }\n",
              "</style>\n",
              "<table border=\"1\" class=\"dataframe\">\n",
              "  <thead>\n",
              "    <tr style=\"text-align: right;\">\n",
              "      <th></th>\n",
              "      <th></th>\n",
              "      <th></th>\n",
              "      <th>audspec_lengthL1norm_sma_range</th>\n",
              "      <th>audspec_lengthL1norm_sma_maxPos</th>\n",
              "      <th>audspec_lengthL1norm_sma_minPos</th>\n",
              "      <th>audspec_lengthL1norm_sma_quartile1</th>\n",
              "      <th>audspec_lengthL1norm_sma_quartile2</th>\n",
              "      <th>audspec_lengthL1norm_sma_quartile3</th>\n",
              "      <th>audspec_lengthL1norm_sma_iqr1-2</th>\n",
              "      <th>audspec_lengthL1norm_sma_iqr2-3</th>\n",
              "      <th>audspec_lengthL1norm_sma_iqr1-3</th>\n",
              "      <th>audspec_lengthL1norm_sma_percentile1.0</th>\n",
              "      <th>...</th>\n",
              "      <th>mfcc_sma_de[14]_peakRangeAbs</th>\n",
              "      <th>mfcc_sma_de[14]_peakRangeRel</th>\n",
              "      <th>mfcc_sma_de[14]_peakMeanAbs</th>\n",
              "      <th>mfcc_sma_de[14]_peakMeanMeanDist</th>\n",
              "      <th>mfcc_sma_de[14]_peakMeanRel</th>\n",
              "      <th>mfcc_sma_de[14]_minRangeRel</th>\n",
              "      <th>mfcc_sma_de[14]_meanRisingSlope</th>\n",
              "      <th>mfcc_sma_de[14]_stddevRisingSlope</th>\n",
              "      <th>mfcc_sma_de[14]_meanFallingSlope</th>\n",
              "      <th>mfcc_sma_de[14]_stddevFallingSlope</th>\n",
              "    </tr>\n",
              "    <tr>\n",
              "      <th>file</th>\n",
              "      <th>start</th>\n",
              "      <th>end</th>\n",
              "      <th></th>\n",
              "      <th></th>\n",
              "      <th></th>\n",
              "      <th></th>\n",
              "      <th></th>\n",
              "      <th></th>\n",
              "      <th></th>\n",
              "      <th></th>\n",
              "      <th></th>\n",
              "      <th></th>\n",
              "      <th></th>\n",
              "      <th></th>\n",
              "      <th></th>\n",
              "      <th></th>\n",
              "      <th></th>\n",
              "      <th></th>\n",
              "      <th></th>\n",
              "      <th></th>\n",
              "      <th></th>\n",
              "      <th></th>\n",
              "      <th></th>\n",
              "    </tr>\n",
              "  </thead>\n",
              "  <tbody>\n",
              "    <tr>\n",
              "      <th>/content/drive/MyDrive/Colab Notebooks/rec/SUB002_SPEECH001_AUDIO.wav</th>\n",
              "      <th>0 days</th>\n",
              "      <th>0 days 00:10:39.800000</th>\n",
              "      <td>8.390948</td>\n",
              "      <td>0.272427</td>\n",
              "      <td>0.981477</td>\n",
              "      <td>0.185696</td>\n",
              "      <td>0.720651</td>\n",
              "      <td>1.61457</td>\n",
              "      <td>0.534954</td>\n",
              "      <td>0.893919</td>\n",
              "      <td>1.428874</td>\n",
              "      <td>0.087261</td>\n",
              "      <td>...</td>\n",
              "      <td>10.557087</td>\n",
              "      <td>0.544917</td>\n",
              "      <td>2.432626</td>\n",
              "      <td>2.432736</td>\n",
              "      <td>-20.0</td>\n",
              "      <td>0.620287</td>\n",
              "      <td>106.017311</td>\n",
              "      <td>54.893475</td>\n",
              "      <td>103.486671</td>\n",
              "      <td>54.03693</td>\n",
              "    </tr>\n",
              "  </tbody>\n",
              "</table>\n",
              "<p>1 rows × 6373 columns</p>\n",
              "</div>\n",
              "    <div class=\"colab-df-buttons\">\n",
              "\n",
              "  <div class=\"colab-df-container\">\n",
              "    <button class=\"colab-df-convert\" onclick=\"convertToInteractive('df-21f8cb00-ae25-4509-afd8-c4f78ec2aef1')\"\n",
              "            title=\"Convert this dataframe to an interactive table.\"\n",
              "            style=\"display:none;\">\n",
              "\n",
              "  <svg xmlns=\"http://www.w3.org/2000/svg\" height=\"24px\" viewBox=\"0 -960 960 960\">\n",
              "    <path d=\"M120-120v-720h720v720H120Zm60-500h600v-160H180v160Zm220 220h160v-160H400v160Zm0 220h160v-160H400v160ZM180-400h160v-160H180v160Zm440 0h160v-160H620v160ZM180-180h160v-160H180v160Zm440 0h160v-160H620v160Z\"/>\n",
              "  </svg>\n",
              "    </button>\n",
              "\n",
              "  <style>\n",
              "    .colab-df-container {\n",
              "      display:flex;\n",
              "      gap: 12px;\n",
              "    }\n",
              "\n",
              "    .colab-df-convert {\n",
              "      background-color: #E8F0FE;\n",
              "      border: none;\n",
              "      border-radius: 50%;\n",
              "      cursor: pointer;\n",
              "      display: none;\n",
              "      fill: #1967D2;\n",
              "      height: 32px;\n",
              "      padding: 0 0 0 0;\n",
              "      width: 32px;\n",
              "    }\n",
              "\n",
              "    .colab-df-convert:hover {\n",
              "      background-color: #E2EBFA;\n",
              "      box-shadow: 0px 1px 2px rgba(60, 64, 67, 0.3), 0px 1px 3px 1px rgba(60, 64, 67, 0.15);\n",
              "      fill: #174EA6;\n",
              "    }\n",
              "\n",
              "    .colab-df-buttons div {\n",
              "      margin-bottom: 4px;\n",
              "    }\n",
              "\n",
              "    [theme=dark] .colab-df-convert {\n",
              "      background-color: #3B4455;\n",
              "      fill: #D2E3FC;\n",
              "    }\n",
              "\n",
              "    [theme=dark] .colab-df-convert:hover {\n",
              "      background-color: #434B5C;\n",
              "      box-shadow: 0px 1px 3px 1px rgba(0, 0, 0, 0.15);\n",
              "      filter: drop-shadow(0px 1px 2px rgba(0, 0, 0, 0.3));\n",
              "      fill: #FFFFFF;\n",
              "    }\n",
              "  </style>\n",
              "\n",
              "    <script>\n",
              "      const buttonEl =\n",
              "        document.querySelector('#df-21f8cb00-ae25-4509-afd8-c4f78ec2aef1 button.colab-df-convert');\n",
              "      buttonEl.style.display =\n",
              "        google.colab.kernel.accessAllowed ? 'block' : 'none';\n",
              "\n",
              "      async function convertToInteractive(key) {\n",
              "        const element = document.querySelector('#df-21f8cb00-ae25-4509-afd8-c4f78ec2aef1');\n",
              "        const dataTable =\n",
              "          await google.colab.kernel.invokeFunction('convertToInteractive',\n",
              "                                                    [key], {});\n",
              "        if (!dataTable) return;\n",
              "\n",
              "        const docLinkHtml = 'Like what you see? Visit the ' +\n",
              "          '<a target=\"_blank\" href=https://colab.research.google.com/notebooks/data_table.ipynb>data table notebook</a>'\n",
              "          + ' to learn more about interactive tables.';\n",
              "        element.innerHTML = '';\n",
              "        dataTable['output_type'] = 'display_data';\n",
              "        await google.colab.output.renderOutput(dataTable, element);\n",
              "        const docLink = document.createElement('div');\n",
              "        docLink.innerHTML = docLinkHtml;\n",
              "        element.appendChild(docLink);\n",
              "      }\n",
              "    </script>\n",
              "  </div>\n",
              "\n",
              "\n",
              "  <div id=\"id_42faafb5-ebe6-4d78-ad6f-f223d77e3b4d\">\n",
              "    <style>\n",
              "      .colab-df-generate {\n",
              "        background-color: #E8F0FE;\n",
              "        border: none;\n",
              "        border-radius: 50%;\n",
              "        cursor: pointer;\n",
              "        display: none;\n",
              "        fill: #1967D2;\n",
              "        height: 32px;\n",
              "        padding: 0 0 0 0;\n",
              "        width: 32px;\n",
              "      }\n",
              "\n",
              "      .colab-df-generate:hover {\n",
              "        background-color: #E2EBFA;\n",
              "        box-shadow: 0px 1px 2px rgba(60, 64, 67, 0.3), 0px 1px 3px 1px rgba(60, 64, 67, 0.15);\n",
              "        fill: #174EA6;\n",
              "      }\n",
              "\n",
              "      [theme=dark] .colab-df-generate {\n",
              "        background-color: #3B4455;\n",
              "        fill: #D2E3FC;\n",
              "      }\n",
              "\n",
              "      [theme=dark] .colab-df-generate:hover {\n",
              "        background-color: #434B5C;\n",
              "        box-shadow: 0px 1px 3px 1px rgba(0, 0, 0, 0.15);\n",
              "        filter: drop-shadow(0px 1px 2px rgba(0, 0, 0, 0.3));\n",
              "        fill: #FFFFFF;\n",
              "      }\n",
              "    </style>\n",
              "    <button class=\"colab-df-generate\" onclick=\"generateWithVariable('y')\"\n",
              "            title=\"Generate code using this dataframe.\"\n",
              "            style=\"display:none;\">\n",
              "\n",
              "  <svg xmlns=\"http://www.w3.org/2000/svg\" height=\"24px\"viewBox=\"0 0 24 24\"\n",
              "       width=\"24px\">\n",
              "    <path d=\"M7,19H8.4L18.45,9,17,7.55,7,17.6ZM5,21V16.75L18.45,3.32a2,2,0,0,1,2.83,0l1.4,1.43a1.91,1.91,0,0,1,.58,1.4,1.91,1.91,0,0,1-.58,1.4L9.25,21ZM18.45,9,17,7.55Zm-12,3A5.31,5.31,0,0,0,4.9,8.1,5.31,5.31,0,0,0,1,6.5,5.31,5.31,0,0,0,4.9,4.9,5.31,5.31,0,0,0,6.5,1,5.31,5.31,0,0,0,8.1,4.9,5.31,5.31,0,0,0,12,6.5,5.46,5.46,0,0,0,6.5,12Z\"/>\n",
              "  </svg>\n",
              "    </button>\n",
              "    <script>\n",
              "      (() => {\n",
              "      const buttonEl =\n",
              "        document.querySelector('#id_42faafb5-ebe6-4d78-ad6f-f223d77e3b4d button.colab-df-generate');\n",
              "      buttonEl.style.display =\n",
              "        google.colab.kernel.accessAllowed ? 'block' : 'none';\n",
              "\n",
              "      buttonEl.onclick = () => {\n",
              "        google.colab.notebook.generateWithVariable('y');\n",
              "      }\n",
              "      })();\n",
              "    </script>\n",
              "  </div>\n",
              "\n",
              "    </div>\n",
              "  </div>\n"
            ]
          },
          "metadata": {},
          "execution_count": 14
        }
      ]
    },
    {
      "cell_type": "code",
      "source": [],
      "metadata": {
        "id": "q4fI1idXXaEl"
      },
      "execution_count": null,
      "outputs": []
    }
  ],
  "metadata": {
    "colab": {
      "provenance": []
    },
    "kernelspec": {
      "display_name": "Python 3",
      "name": "python3"
    },
    "language_info": {
      "name": "python"
    }
  },
  "nbformat": 4,
  "nbformat_minor": 0
}