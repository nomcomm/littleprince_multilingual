{
 "cells": [
  {
   "cell_type": "code",
   "execution_count": 25,
   "id": "aabde6b7-7287-4bde-9aa4-9d124f0e68b9",
   "metadata": {},
   "outputs": [
    {
     "data": {
      "text/plain": [
       "'/Users/schmaelz/Documents/01_GITHUB/nomcomm/GITHUB_PAPERS_WORKING/littleprince_multilingualBU/scripts'"
      ]
     },
     "execution_count": 25,
     "metadata": {},
     "output_type": "execute_result"
    }
   ],
   "source": [
    "import pandas as pd\n",
    "import numpy as np\n",
    "import os, sys, re\n",
    "os.getcwd()"
   ]
  },
  {
   "cell_type": "code",
   "execution_count": null,
   "id": "d60b46a8-2e05-49b8-a9e8-80fb5111aeff",
   "metadata": {},
   "outputs": [],
   "source": []
  },
  {
   "cell_type": "code",
   "execution_count": 45,
   "id": "64535324-4570-4e54-abc6-306e547ee76c",
   "metadata": {},
   "outputs": [
    {
     "data": {
      "text/plain": [
       "15376"
      ]
     },
     "execution_count": 45,
     "metadata": {},
     "output_type": "execute_result"
    }
   ],
   "source": [
    "df_fr = pd.read_csv('../data_lpp/story_data/annotation/FR/lppFR_word_embeddings_BERT.csv');\n",
    "df_cn = pd.read_csv('../data_lpp/story_data/annotation/CN/lppCN_word_embeddings_BERT.csv');\n",
    "df_en = pd.read_csv('../data_lpp/story_data/annotation/EN/lppEN_word_embeddings_BERT.csv');\n",
    "\n",
    "\n",
    "len(df_en)"
   ]
  },
  {
   "cell_type": "code",
   "execution_count": 41,
   "id": "130c9a1e-1251-4439-853f-34a5b88e9b30",
   "metadata": {},
   "outputs": [],
   "source": [
    "def remove_values_from_list(the_list, val):\n",
    "   return [value for value in the_list if value != val]\n",
    "\n",
    "def convert_bert(input_df):\n",
    "    result_a = []\n",
    "    for curr_row in range(len(input_df.BERT)):\n",
    "      l = input_df.BERT[curr_row].split(\" \")\n",
    "      l = [i for i in l if i]\n",
    "      l = remove_values_from_list(l, '[')\n",
    "      l = remove_values_from_list(l, ']')\n",
    "      for listels in range(len(l)):\n",
    "        l[listels] = l[listels].replace('[', '')\n",
    "        l[listels] = l[listels].replace(']', '')\n",
    "        l[listels] = np.double(l[listels])\n",
    "      result_a.append(l)\n",
    "    result_a = np.asarray(result_a)\n",
    "    return result_a\n",
    "\n"
   ]
  },
  {
   "cell_type": "code",
   "execution_count": 43,
   "id": "6e82ce7b-43fb-44ec-b0f3-5f7b660c9e08",
   "metadata": {},
   "outputs": [
    {
     "data": {
      "text/plain": [
       "(15376, 768)"
      ]
     },
     "execution_count": 43,
     "metadata": {},
     "output_type": "execute_result"
    }
   ],
   "source": [
    "result_EN = convert_bert(df_en) \n",
    "result_EN.shape"
   ]
  },
  {
   "cell_type": "code",
   "execution_count": 44,
   "id": "a17e78bc-a9e0-4a38-b4bf-312c76677334",
   "metadata": {},
   "outputs": [
    {
     "data": {
      "text/plain": [
       "(16009, 768)"
      ]
     },
     "execution_count": 44,
     "metadata": {},
     "output_type": "execute_result"
    }
   ],
   "source": [
    "result_CN = convert_bert(df_cn) \n",
    "result_CN.shape"
   ]
  },
  {
   "cell_type": "code",
   "execution_count": null,
   "id": "b14daab3-4c39-43d4-b92f-2224ef124e3e",
   "metadata": {},
   "outputs": [],
   "source": []
  }
 ],
 "metadata": {
  "kernelspec": {
   "display_name": "Python 3 (ipykernel)",
   "language": "python",
   "name": "python3"
  },
  "language_info": {
   "codemirror_mode": {
    "name": "ipython",
    "version": 3
   },
   "file_extension": ".py",
   "mimetype": "text/x-python",
   "name": "python",
   "nbconvert_exporter": "python",
   "pygments_lexer": "ipython3",
   "version": "3.10.13"
  }
 },
 "nbformat": 4,
 "nbformat_minor": 5
}
