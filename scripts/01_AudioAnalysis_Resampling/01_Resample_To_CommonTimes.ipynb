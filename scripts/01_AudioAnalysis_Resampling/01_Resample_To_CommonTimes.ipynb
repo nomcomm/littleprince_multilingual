{
 "cells": [
  {
   "cell_type": "markdown",
   "id": "measured-cloud",
   "metadata": {},
   "source": [
    "### Resample\n",
    "\n",
    "This notebook resamples the data for each sections and from different languages to a common length, i.e. a common timeline. See text for description/justification. Also, behind this relatively simple notebook is a long line of reasoning and data-checking, including the audio-regression, the text-files etc., because there are several non-trivial, but important little pieces in which the datasets differ (presumably because different teams were involved in recording).\n",
    "\n",
    "#### Import Modules"
   ]
  },
  {
   "cell_type": "code",
   "execution_count": 46,
   "id": "standing-criterion",
   "metadata": {},
   "outputs": [],
   "source": [
    "import pandas as pd\n",
    "import numpy as np\n",
    "import sys, os\n",
    "import matplotlib.pyplot as plt\n",
    "%matplotlib inline"
   ]
  },
  {
   "cell_type": "markdown",
   "id": "employed-remedy",
   "metadata": {},
   "source": [
    "#### Open the files and print their lengths"
   ]
  },
  {
   "cell_type": "code",
   "execution_count": 47,
   "id": "normal-auction",
   "metadata": {},
   "outputs": [],
   "source": [
    "lenghts = np.zeros((3,9))\n",
    "\n",
    "for curr_run in range(9):\n",
    "    #print(curr_run+1)\n",
    "    \n",
    "    # English\n",
    "    curr_data = np.load(\"../data_lpp/fmri_data/extract_ts/lpp_alllang_allruns_fmri/task-lppEN-run-0\" + str(curr_run+1) + \".npy\")\n",
    "    #print(curr_data.shape[0])    \n",
    "    lenghts[0,curr_run] = curr_data.shape[0]\n",
    "\n",
    "    # French\n",
    "    curr_data = np.load(\"../data_lpp/fmri_data/extract_ts/lpp_alllang_allruns_fmri/task-lppFR-run-0\" + str(curr_run+1) + \".npy\")\n",
    "    #print(curr_data.shape[0])   \n",
    "    lenghts[1,curr_run] = curr_data.shape[0]\n",
    "\n",
    "    # Chinese\n",
    "    curr_data = np.load(\"../data_lpp/fmri_data/extract_ts/lpp_alllang_allruns_fmri/task-lppCN-run-0\" + str(curr_run+1) + \".npy\")\n",
    "    #print(curr_data.shape[0])   \n",
    "    lenghts[2,curr_run] = curr_data.shape[0]\n",
    "    #print('###')"
   ]
  },
  {
   "cell_type": "code",
   "execution_count": 50,
   "id": "worldwide-istanbul",
   "metadata": {},
   "outputs": [
    {
     "data": {
      "image/png": "[encoded data removed]",
      "text/plain": [
       "<Figure size 432x288 with 1 Axes>"
      ]
     },
     "metadata": {
      "needs_background": "light"
     },
     "output_type": "display_data"
    }
   ],
   "source": [
    "X = np.arange(9)\n",
    "\n",
    "fig = plt.figure();\n",
    "ax = fig.add_axes([0,0,1,1]);\n",
    "ax.bar(X + 0.00, lenghts[0,:], color = 'b', width = 0.25, label = 'english');\n",
    "ax.bar(X + 0.25, lenghts[1,:], color = 'g', width = 0.25, label = 'french');\n",
    "ax.bar(X + 0.50, lenghts[2,:], color = 'r', width = 0.25, label = 'chinese');\n",
    "plt.legend();"
   ]
  },
  {
   "cell_type": "code",
   "execution_count": 49,
   "id": "czech-domestic",
   "metadata": {},
   "outputs": [
    {
     "data": {
      "text/plain": [
       "array([291, 315, 338, 308, 283, 371, 340, 293, 368])"
      ]
     },
     "execution_count": 49,
     "metadata": {},
     "output_type": "execute_result"
    }
   ],
   "source": [
    "#the fairest way to align times across languages is to the common mean (after some consideration of pros/cons)\n",
    "np.mean(lenghts, axis=0).astype(int)"
   ]
  },
  {
   "cell_type": "markdown",
   "id": "horizontal-surname",
   "metadata": {},
   "source": [
    "### resample"
   ]
  },
  {
   "cell_type": "code",
   "execution_count": null,
   "id": "heard-brass",
   "metadata": {},
   "outputs": [],
   "source": [
    "import scipy.signal\n",
    "\n",
    "target_size = [291, 315, 338, 308, 283, 371, 340, 293, 368]\n",
    "\n",
    "# memory aid: the story behind this is like this: \n",
    "# I checked the duration of the MRI recordings and the last onset of the last word in the story files. \n",
    "# What I noticed was that while the  chinese recordrings were stopped at the duration of the last file, \n",
    "# the french and english recording lasted ca. 8 secs longer, anmounting to 4 TRs. This corrects for that. \n",
    "\n",
    "n_runs = 9\n",
    "gen_path = \"../data_lpp/fmri_data/extract_ts/lpp_alllang_allruns_fmri\"\n",
    "\n",
    "for curr_run in range(n_runs):\n",
    "    lang = \"EN\"\n",
    "    path_pre = gen_path + \"/task-lpp\" + lang + \"-run-0\"\n",
    "    path_pre_out = gen_path + \"_resampled/task-lpp\" + lang + \"-run-0\"\n",
    "    curr_target_size = target_size[curr_run]\n",
    "    curr_data = np.load(path_pre + str(curr_run+1) + \".npy\")\n",
    "    curr_data = curr_data[:-4,:,:]  # this is to correct for the english time different in offset\n",
    "    n_time, n_roi, n_subjs = curr_data.shape    \n",
    "    new_data = np.zeros((curr_target_size, n_roi, n_subjs))\n",
    "\n",
    "    for curr_roi in range(n_roi):\n",
    "        for curr_sub in range(n_subjs):\n",
    "                new_data[:, curr_roi, curr_sub] = scipy.signal.resample(curr_data[:,curr_roi,curr_sub], curr_target_size, t=None, axis=0, window=None, domain='time')\n",
    "\n",
    "    path_out = path_pre_out + str(curr_run+1) + \"_resampled\" + str(curr_target_size) + \".npy\"\n",
    "    np.save(path_out, new_data)\n",
    "    \n",
    "for curr_run in range(n_runs):\n",
    "    lang = \"FR\"\n",
    "    path_pre = gen_path + \"/task-lpp\" + lang + \"-run-0\"\n",
    "    path_pre_out = gen_path + \"_resampled/task-lpp\" + lang + \"-run-0\"\n",
    "    curr_target_size = target_size[curr_run]\n",
    "    curr_data = np.load(path_pre + str(curr_run+1) + \".npy\")\n",
    "    curr_data = curr_data[:-4,:,:]  # this is to correct for the french time difference in offset\n",
    "    n_time, n_roi, n_subjs = curr_data.shape    \n",
    "    new_data = np.zeros((curr_target_size, n_roi, n_subjs))\n",
    "\n",
    "    for curr_roi in range(n_roi):\n",
    "        for curr_sub in range(n_subjs):\n",
    "                new_data[:, curr_roi, curr_sub] = scipy.signal.resample(curr_data[:,curr_roi,curr_sub], curr_target_size, t=None, axis=0, window=None, domain='time')\n",
    "\n",
    "    path_out = path_pre_out + str(curr_run+1) + \"_resampled\" + str(curr_target_size) + \".npy\"\n",
    "    np.save(path_out, new_data)\n",
    "    \n",
    "for curr_run in range(n_runs):\n",
    "    lang = \"CN\"\n",
    "    path_pre = gen_path + \"/task-lpp\" + lang + \"-run-0\"\n",
    "    path_pre_out = gen_path + \"_resampled/task-lpp\" + lang + \"-run-0\"\n",
    "    curr_target_size = target_size[curr_run]\n",
    "    curr_data = np.load(path_pre + str(curr_run+1) + \".npy\")\n",
    "    n_time, n_roi, n_subjs = curr_data.shape    \n",
    "    new_data = np.zeros((curr_target_size, n_roi, n_subjs))\n",
    "\n",
    "    for curr_roi in range(n_roi):\n",
    "        for curr_sub in range(n_subjs):\n",
    "                new_data[:, curr_roi, curr_sub] = scipy.signal.resample(curr_data[:,curr_roi,curr_sub], curr_target_size, t=None, axis=0, window=None, domain='time')\n",
    "\n",
    "    path_out = path_pre_out + str(curr_run+1) + \"_resampled\" + str(curr_target_size) + \".npy\"\n",
    "    np.save(path_out, new_data)\n",
    "    \n"
   ]
  }
 ],
 "metadata": {
  "kernelspec": {
   "display_name": "Python 3",
   "language": "python",
   "name": "python3"
  },
  "language_info": {
   "codemirror_mode": {
    "name": "ipython",
    "version": 3
   },
   "file_extension": ".py",
   "mimetype": "text/x-python",
   "name": "python",
   "nbconvert_exporter": "python",
   "pygments_lexer": "ipython3",
   "version": "3.9.1"
  }
 },
 "nbformat": 4,
 "nbformat_minor": 5
}
