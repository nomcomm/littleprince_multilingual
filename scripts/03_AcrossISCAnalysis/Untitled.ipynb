{
 "cells": [
  {
   "cell_type": "code",
   "execution_count": 1,
   "id": "palestinian-prevention",
   "metadata": {},
   "outputs": [],
   "source": [
    "import numpy as np\n",
    "import matplotlib.pyplot as plt\n",
    "%matplotlib inline"
   ]
  },
  {
   "cell_type": "code",
   "execution_count": 14,
   "id": "democratic-crime",
   "metadata": {},
   "outputs": [
    {
     "data": {
      "text/plain": [
       "(387, 30, 100, 100)"
      ]
     },
     "execution_count": 14,
     "metadata": {},
     "output_type": "execute_result"
    }
   ],
   "source": [
    "s1 = np.load('/Users/ralfschmaelzle/Desktop/avatar.npy')\n",
    "s1.shape"
   ]
  },
  {
   "cell_type": "code",
   "execution_count": 3,
   "id": "fitted-columbia",
   "metadata": {},
   "outputs": [
    {
     "data": {
      "text/plain": [
       "(311, 30, 100, 100)"
      ]
     },
     "execution_count": 3,
     "metadata": {},
     "output_type": "execute_result"
    }
   ],
   "source": [
    "s2 = np.load('/Users/ralfschmaelzle/Desktop/S2_wheretheressmoke.npy')\n",
    "s2.shape"
   ]
  },
  {
   "cell_type": "code",
   "execution_count": 16,
   "id": "judicial-dealing",
   "metadata": {},
   "outputs": [
    {
     "data": {
      "text/plain": [
       "nan"
      ]
     },
     "execution_count": 16,
     "metadata": {},
     "output_type": "execute_result"
    }
   ],
   "source": [
    "s1[10,10,10,10]"
   ]
  },
  {
   "cell_type": "code",
   "execution_count": 13,
   "id": "another-wheel",
   "metadata": {},
   "outputs": [],
   "source": [
    "ss = np.argwhere(np.isnan(s1));\n"
   ]
  },
  {
   "cell_type": "code",
   "execution_count": null,
   "id": "charitable-sheet",
   "metadata": {},
   "outputs": [],
   "source": []
  }
 ],
 "metadata": {
  "kernelspec": {
   "display_name": "Python 3 (ipykernel)",
   "language": "python",
   "name": "python3"
  },
  "language_info": {
   "codemirror_mode": {
    "name": "ipython",
    "version": 3
   },
   "file_extension": ".py",
   "mimetype": "text/x-python",
   "name": "python",
   "nbconvert_exporter": "python",
   "pygments_lexer": "ipython3",
   "version": "3.11.5"
  }
 },
 "nbformat": 4,
 "nbformat_minor": 5
}
