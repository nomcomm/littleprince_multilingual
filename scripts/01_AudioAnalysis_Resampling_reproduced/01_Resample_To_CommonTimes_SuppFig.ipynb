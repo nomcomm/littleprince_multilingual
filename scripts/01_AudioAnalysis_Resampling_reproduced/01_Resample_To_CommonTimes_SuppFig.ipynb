{
 "cells": [
  {
   "cell_type": "markdown",
   "id": "measured-cloud",
   "metadata": {},
   "source": [
    "### Resample\n",
    "\n",
    "This notebook resamples the data for each sections and from different languages to a common length, i.e. a common timeline. See text for description/justification. Also, behind this relatively simple notebook is a long line of reasoning and data-checking, including the audio-regression, the text-files etc., because there are several non-trivial, but important little pieces in which the datasets differ (presumably because different teams were involved in recording).\n",
    "\n",
    "#### Import Modules"
   ]
  },
  {
   "cell_type": "code",
   "execution_count": 1,
   "id": "standing-criterion",
   "metadata": {},
   "outputs": [],
   "source": [
    "import pandas as pd\n",
    "import numpy as np\n",
    "import sys, os\n",
    "import matplotlib.pyplot as plt\n",
    "%matplotlib inline"
   ]
  },
  {
   "cell_type": "markdown",
   "id": "employed-remedy",
   "metadata": {},
   "source": [
    "#### Open the files and print their lengths"
   ]
  },
  {
   "cell_type": "code",
   "execution_count": 2,
   "id": "normal-auction",
   "metadata": {},
   "outputs": [],
   "source": [
    "lenghts = np.zeros((3,9))\n",
    "\n",
    "for curr_run in range(9):\n",
    "    #print(curr_run+1)\n",
    "    \n",
    "    # English\n",
    "    curr_data = np.load(\"../../data_lpp/fmri_data/extract_ts/lpp_alllang_allruns_fmri/task-lppEN-run-0\" + str(curr_run+1) + \".npy\")\n",
    "    #print(curr_data.shape[0])    \n",
    "    lenghts[0,curr_run] = curr_data.shape[0]\n",
    "\n",
    "    # French\n",
    "    curr_data = np.load(\"../../data_lpp/fmri_data/extract_ts/lpp_alllang_allruns_fmri/task-lppFR-run-0\" + str(curr_run+1) + \".npy\")\n",
    "    #print(curr_data.shape[0])   \n",
    "    lenghts[1,curr_run] = curr_data.shape[0]\n",
    "\n",
    "    # Chinese\n",
    "    curr_data = np.load(\"../../data_lpp/fmri_data/extract_ts/lpp_alllang_allruns_fmri/task-lppCN-run-0\" + str(curr_run+1) + \".npy\")\n",
    "    #print(curr_data.shape[0])   \n",
    "    lenghts[2,curr_run] = curr_data.shape[0]\n",
    "    #print('###')"
   ]
  },
  {
   "cell_type": "code",
   "execution_count": 3,
   "id": "worldwide-istanbul",
   "metadata": {},
   "outputs": [
    {
     "data": {
      "image/png": "[encoded data removed]",
      "text/plain": [
       "<Figure size 600x300 with 1 Axes>"
      ]
     },
     "metadata": {},
     "output_type": "display_data"
    }
   ],
   "source": [
    "X = np.arange(9)\n",
    "\n",
    "fig = plt.figure(figsize = (6,3));\n",
    "ax = fig.add_axes([0,0,1,1]);\n",
    "ax.bar(X + 0.25, lenghts[1,:], color = 'darksalmon', width = 0.25, label = 'french');\n",
    "ax.bar(X + 0.50, lenghts[2,:], color = 'forestgreen', width = 0.25, label = 'chinese');\n",
    "ax.bar(X + 0.00, lenghts[0,:], color = 'royalblue', width = 0.25, label = 'english');\n",
    "plt.ylim([0, 450])\n",
    "plt.xticks(np.arange(9), np.arange(9)+1)\n",
    "\n",
    "plt.xlabel('Section')\n",
    "plt.ylabel('Lenght in TR')\n",
    "\n",
    "plt.legend();"
   ]
  },
  {
   "cell_type": "code",
   "execution_count": 4,
   "id": "collaborative-milan",
   "metadata": {},
   "outputs": [
    {
     "data": {
      "text/plain": [
       "array([[282., 298., 340., 303., 265., 343., 325., 292., 368.],\n",
       "       [309., 326., 354., 315., 293., 378., 332., 294., 336.],\n",
       "       [283., 322., 322., 307., 293., 392., 364., 293., 401.]])"
      ]
     },
     "execution_count": 4,
     "metadata": {},
     "output_type": "execute_result"
    }
   ],
   "source": [
    "lenghts"
   ]
  },
  {
   "cell_type": "code",
   "execution_count": 5,
   "id": "czech-domestic",
   "metadata": {},
   "outputs": [
    {
     "data": {
      "text/plain": [
       "array([291, 315, 338, 308, 283, 371, 340, 293, 368])"
      ]
     },
     "execution_count": 5,
     "metadata": {},
     "output_type": "execute_result"
    }
   ],
   "source": [
    "#the fairest way to align times across languages is to the common mean (after some consideration of pros/cons)\n",
    "np.mean(lenghts, axis=0).astype(int)"
   ]
  },
  {
   "cell_type": "markdown",
   "id": "horizontal-surname",
   "metadata": {},
   "source": [
    "### resample"
   ]
  },
  {
   "cell_type": "code",
   "execution_count": 7,
   "id": "acfec35a-ee56-40b8-9c10-fb6963061ec5",
   "metadata": {},
   "outputs": [
    {
     "data": {
      "text/plain": [
       "'/Users/schmaelz/Documents/01_GITHUB/nomcomm/GITHUB_PAPERS_WORKING/littleprince_multilingual/scripts/01_AudioAnalysis_Resampling'"
      ]
     },
     "execution_count": 7,
     "metadata": {},
     "output_type": "execute_result"
    }
   ],
   "source": [
    "os.getcwd()"
   ]
  },
  {
   "cell_type": "code",
   "execution_count": 8,
   "id": "heard-brass",
   "metadata": {},
   "outputs": [],
   "source": [
    "import scipy.signal\n",
    "\n",
    "target_size = [291, 315, 338, 308, 283, 371, 340, 293, 368]\n",
    "\n",
    "# memory aid: the story behind this is like this: \n",
    "# I checked the duration of the MRI recordings and the last onset of the last word in the story files. \n",
    "# What I noticed was that while the  chinese recordrings were stopped at the duration of the last file, \n",
    "# the french and english recording lasted ca. 8 secs longer, anmounting to 4 TRs. This corrects for that. \n",
    "\n",
    "n_runs = 9\n",
    "gen_path = \"../../data_lpp/fmri_data/extract_ts/lpp_alllang_allruns_fmri\"\n",
    "\n",
    "for curr_run in range(n_runs):\n",
    "    lang = \"EN\"\n",
    "    path_pre = gen_path + \"/task-lpp\" + lang + \"-run-0\"\n",
    "    path_pre_out = gen_path + \"_resampled/task-lpp\" + lang + \"-run-0\"\n",
    "    curr_target_size = target_size[curr_run]\n",
    "    curr_data = np.load(path_pre + str(curr_run+1) + \".npy\")\n",
    "    curr_data = curr_data[:-4,:,:]  # this is to correct for the english time different in offset\n",
    "    n_time, n_roi, n_subjs = curr_data.shape    \n",
    "    new_data = np.zeros((curr_target_size, n_roi, n_subjs))\n",
    "\n",
    "    for curr_roi in range(n_roi):\n",
    "        for curr_sub in range(n_subjs):\n",
    "                new_data[:, curr_roi, curr_sub] = scipy.signal.resample(curr_data[:,curr_roi,curr_sub], curr_target_size, t=None, axis=0, window=None, domain='time')\n",
    "\n",
    "    path_out = path_pre_out + str(curr_run+1) + \"_resampled\" + str(curr_target_size) + \".npy\"\n",
    "    np.save(path_out, new_data)\n",
    "    \n",
    "for curr_run in range(n_runs):\n",
    "    lang = \"FR\"\n",
    "    path_pre = gen_path + \"/task-lpp\" + lang + \"-run-0\"\n",
    "    path_pre_out = gen_path + \"_resampled/task-lpp\" + lang + \"-run-0\"\n",
    "    curr_target_size = target_size[curr_run]\n",
    "    curr_data = np.load(path_pre + str(curr_run+1) + \".npy\")\n",
    "    curr_data = curr_data[:-4,:,:]  # this is to correct for the french time difference in offset\n",
    "    n_time, n_roi, n_subjs = curr_data.shape    \n",
    "    new_data = np.zeros((curr_target_size, n_roi, n_subjs))\n",
    "\n",
    "    for curr_roi in range(n_roi):\n",
    "        for curr_sub in range(n_subjs):\n",
    "                new_data[:, curr_roi, curr_sub] = scipy.signal.resample(curr_data[:,curr_roi,curr_sub], curr_target_size, t=None, axis=0, window=None, domain='time')\n",
    "\n",
    "    path_out = path_pre_out + str(curr_run+1) + \"_resampled\" + str(curr_target_size) + \".npy\"\n",
    "    np.save(path_out, new_data)\n",
    "    \n",
    "for curr_run in range(n_runs):\n",
    "    lang = \"CN\"\n",
    "    path_pre = gen_path + \"/task-lpp\" + lang + \"-run-0\"\n",
    "    path_pre_out = gen_path + \"_resampled/task-lpp\" + lang + \"-run-0\"\n",
    "    curr_target_size = target_size[curr_run]\n",
    "    curr_data = np.load(path_pre + str(curr_run+1) + \".npy\")\n",
    "    n_time, n_roi, n_subjs = curr_data.shape    \n",
    "    new_data = np.zeros((curr_target_size, n_roi, n_subjs))\n",
    "\n",
    "    for curr_roi in range(n_roi):\n",
    "        for curr_sub in range(n_subjs):\n",
    "                new_data[:, curr_roi, curr_sub] = scipy.signal.resample(curr_data[:,curr_roi,curr_sub], curr_target_size, t=None, axis=0, window=None, domain='time')\n",
    "\n",
    "    path_out = path_pre_out + str(curr_run+1) + \"_resampled\" + str(curr_target_size) + \".npy\"\n",
    "    np.save(path_out, new_data)\n",
    "    \n"
   ]
  },
  {
   "cell_type": "code",
   "execution_count": 9,
   "id": "final-discipline",
   "metadata": {},
   "outputs": [
    {
     "data": {
      "text/plain": [
       "array([291, 315, 338, 308, 283, 371, 340, 293, 368])"
      ]
     },
     "execution_count": 9,
     "metadata": {},
     "output_type": "execute_result"
    }
   ],
   "source": [
    "X = np.arange(9)\n",
    "lenghts = np.asarray([291, 315, 338, 308, 283, 371, 340, 293, 368])\n",
    "lenghts"
   ]
  },
  {
   "cell_type": "code",
   "execution_count": 10,
   "id": "sporting-surgeon",
   "metadata": {},
   "outputs": [
    {
     "data": {
      "image/png": "[encoded data removed]",
      "text/plain": [
       "<Figure size 600x300 with 1 Axes>"
      ]
     },
     "metadata": {},
     "output_type": "display_data"
    }
   ],
   "source": [
    "fig = plt.figure(figsize = (6,3));\n",
    "ax = fig.add_axes([0,0,1,1]);\n",
    "ax.bar(X + 0.25, lenghts[:], color = 'darksalmon', width = 0.25, label = 'french');\n",
    "ax.bar(X + 0.50, lenghts[:], color = 'forestgreen', width = 0.25, label = 'chinese');\n",
    "ax.bar(X + 0.00, lenghts[:], color = 'royalblue', width = 0.25, label = 'english');\n",
    "\n",
    "plt.xticks(np.arange(9), np.arange(9)+1)\n",
    "plt.ylim([0, 450])\n",
    "plt.xlabel('Section')\n",
    "plt.ylabel('Lenght in TR')\n",
    "\n",
    "plt.legend();"
   ]
  },
  {
   "cell_type": "code",
   "execution_count": null,
   "id": "ignored-marker",
   "metadata": {},
   "outputs": [],
   "source": []
  }
 ],
 "metadata": {
  "kernelspec": {
   "display_name": "Python 3 (ipykernel)",
   "language": "python",
   "name": "python3"
  },
  "language_info": {
   "codemirror_mode": {
    "name": "ipython",
    "version": 3
   },
   "file_extension": ".py",
   "mimetype": "text/x-python",
   "name": "python",
   "nbconvert_exporter": "python",
   "pygments_lexer": "ipython3",
   "version": "3.11.5"
  }
 },
 "nbformat": 4,
 "nbformat_minor": 5
}
